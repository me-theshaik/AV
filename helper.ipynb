{
 "cells": [
  {
   "cell_type": "code",
   "execution_count": 9,
   "metadata": {},
   "outputs": [],
   "source": [
    "import cv2\n",
    "import numpy as np\n",
    "import torch"
   ]
  },
  {
   "cell_type": "code",
   "execution_count": 10,
   "metadata": {},
   "outputs": [],
   "source": [
    "class_names = {\n",
    "    0: u'__background__',\n",
    " 1: u'person',\n",
    " 2: u'bicycle',\n",
    " 3: u'car',\n",
    " 4: u'motorcycle',\n",
    " 5: u'airplane',\n",
    " 6: u'bus',\n",
    " 7: u'train',\n",
    " 8: u'truck',\n",
    " 9: u'boat',\n",
    " 10: u'traffic light',\n",
    " 11: u'fire hydrant',\n",
    " 12: u'stop sign',\n",
    " 13: u'parking meter',\n",
    " 14: u'bench',\n",
    " 15: u'bird',\n",
    " 16: u'cat',\n",
    " 17: u'dog',\n",
    " 18: u'horse',\n",
    " 19: u'sheep',\n",
    " 20: u'cow',\n",
    " 21: u'elephant',\n",
    " 22: u'bear',\n",
    " 23: u'zebra',\n",
    " 24: u'giraffe',\n",
    " 25: u'backpack',\n",
    " 26: u'umbrella',\n",
    " 27: u'handbag',\n",
    " 28: u'tie',\n",
    " 29: u'suitcase',\n",
    " 30: u'frisbee',\n",
    " 31: u'skis',\n",
    " 32: u'snowboard',\n",
    " 33: u'sports ball',\n",
    " 34: u'kite',\n",
    " 35: u'baseball bat',\n",
    " 36: u'baseball glove',\n",
    " 37: u'skateboard',\n",
    " 38: u'surfboard',\n",
    " 39: u'tennis racket',\n",
    " 40: u'bottle',\n",
    " 41: u'wine glass',\n",
    " 42: u'cup',\n",
    " 43: u'fork',\n",
    " 44: u'knife',\n",
    " 45: u'spoon',\n",
    " 46: u'bowl',\n",
    " 47: u'banana',\n",
    " 48: u'apple',\n",
    " 49: u'sandwich',\n",
    " 50: u'orange',\n",
    " 51: u'broccoli',\n",
    " 52: u'carrot',\n",
    " 53: u'hot dog',\n",
    " 54: u'pizza',\n",
    " 55: u'donut',\n",
    " 56: u'cake',\n",
    " 57: u'chair',\n",
    " 58: u'couch',\n",
    " 59: u'potted plant',\n",
    " 60: u'bed',\n",
    " 61: u'dining table',\n",
    " 62: u'toilet',\n",
    " 63: u'tv',\n",
    " 64: u'laptop',\n",
    " 65: u'mouse',\n",
    " 66: u'remote',\n",
    " 67: u'keyboard',\n",
    " 68: u'cell phone',\n",
    " 69: u'microwave',\n",
    " 70: u'oven',\n",
    " 71: u'toaster',\n",
    " 72: u'sink',\n",
    " 73: u'refrigerator',\n",
    " 74: u'book',\n",
    " 75: u'clock',\n",
    " 76: u'vase',\n",
    " 77: u'scissors',\n",
    " 78: u'teddy bear',\n",
    " 79: u'hair drier',\n",
    " 80: u'toothbrush'\n",
    " }"
   ]
  },
  {
   "cell_type": "code",
   "execution_count": 11,
   "metadata": {},
   "outputs": [],
   "source": [
    "def load_model():\n",
    "    return torch.hub.load('ultralytics/yolov5', 'yolov5s') \n",
    "def bounding_boxes(frame,model):\n",
    "    detections = model(frame).display(crop=True)\n",
    "    boxes = []\n",
    "    ke = ['box', 'conf', 'cls', 'label', 'im']\n",
    "    for i in detections:\n",
    "        box = [list(map(int,i['box'])),int(i['cls'])]\n",
    "        boxes.append(box)\n",
    "    return boxes"
   ]
  },
  {
   "cell_type": "code",
   "execution_count": 12,
   "metadata": {},
   "outputs": [],
   "source": [
    "def drawBoxes(image,bounding_boxes):\n",
    "    thickness = 2\n",
    "    for i in bounding_boxes:\n",
    "        sx,sy,ex,ey = i[0]\n",
    "        color  = (255,0,0)\n",
    "        image = cv2.rectangle(image,[sx,sy],[ex,ey], color, thickness)\n",
    "        font = cv2.FONT_HERSHEY_SIMPLEX\n",
    "        org = (sx,sy)\n",
    "        fontScale = 1\n",
    "        image = cv2.putText(image,class_names[i[1]+1],org, font, fontScale, color, thickness, cv2.LINE_AA)\n",
    "    return image"
   ]
  },
  {
   "cell_type": "code",
   "execution_count": 13,
   "metadata": {},
   "outputs": [
    {
     "name": "stderr",
     "output_type": "stream",
     "text": [
      "Using cache found in /Users/sujithvamshi/.cache/torch/hub/ultralytics_yolov5_master\n",
      "YOLOv5 🚀 2022-4-16 torch 1.11.0 CPU\n",
      "\n",
      "Fusing layers... \n",
      "YOLOv5s summary: 213 layers, 7225885 parameters, 0 gradients\n",
      "Adding AutoShape... \n"
     ]
    }
   ],
   "source": [
    "model = load_model()\n",
    "cap = cv2.VideoCapture(0)\n",
    "if not cap.isOpened():\n",
    "    print(\"Cannot Open Camera\")\n",
    "    exit()\n",
    "while True:\n",
    "    ret, frame = cap.read()\n",
    "    if not ret:\n",
    "        print(\"Can't receive frame (stream end?). Exiting ...\")\n",
    "        break\n",
    "    frame = cv2.flip(frame,180)\n",
    "    boxes = bounding_boxes(frame,model)\n",
    "    detected_img  = drawBoxes(frame,boxes)\n",
    "    cv2.imshow('frame', detected_img)\n",
    "    if cv2.waitKey(1) == ord('q'):\n",
    "        break\n",
    "cap.release()\n",
    "cv2.destroyAllWindows()\n"
   ]
  },
  {
   "cell_type": "code",
   "execution_count": null,
   "metadata": {},
   "outputs": [],
   "source": []
  }
 ],
 "metadata": {
  "interpreter": {
   "hash": "cabe5e2adc12bc55fec3b05872858fd36eca333f32d669b1230866c442273ae7"
  },
  "kernelspec": {
   "display_name": "Python 3.8.13 ('DeepLearning')",
   "language": "python",
   "name": "python3"
  },
  "language_info": {
   "codemirror_mode": {
    "name": "ipython",
    "version": 3
   },
   "file_extension": ".py",
   "mimetype": "text/x-python",
   "name": "python",
   "nbconvert_exporter": "python",
   "pygments_lexer": "ipython3",
   "version": "3.8.13"
  },
  "orig_nbformat": 4
 },
 "nbformat": 4,
 "nbformat_minor": 2
}
